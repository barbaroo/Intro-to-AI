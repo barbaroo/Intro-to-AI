{
  "nbformat": 4,
  "nbformat_minor": 0,
  "metadata": {
    "colab": {
      "provenance": []
    },
    "kernelspec": {
      "name": "python3",
      "display_name": "Python 3"
    },
    "language_info": {
      "name": "python"
    }
  },
  "cells": [
    {
      "cell_type": "markdown",
      "source": [
        "\n",
        "# Mastermind Game: Logic Exercise\n",
        "\n",
        "In this exercise, you'll be working with the classic game of Mastermind using propositional logic.\n",
        "The goal of Mastermind is to guess the correct sequence of colors. For simplicity, we'll be using a version\n",
        "with 4 positions and 4 possible colors: red, blue, green, and yellow.\n",
        "\n",
        "We'll represent each color-position combination as a unique symbol. For example, the symbol \"red0\" represents\n",
        "the color red in the first position, \"blue1\" represents the color blue in the second position, and so on.\n",
        "\n",
        "Your task is to use logical reasoning to deduce the correct sequence of colors based on the given clues.\n",
        "\n",
        "Let's start by importing the necessary tools from `logic.py` and setting up our basic symbols.\n"
      ],
      "metadata": {
        "id": "5Yb9jMN_2YCw"
      }
    },
    {
      "cell_type": "code",
      "source": [
        "from logic import *"
      ],
      "metadata": {
        "id": "YRkD9XZH2fkF"
      },
      "execution_count": 3,
      "outputs": []
    },
    {
      "cell_type": "markdown",
      "source": [
        "\n",
        "## Setting Up Symbols\n",
        "\n",
        "For each of the 4 positions and 4 colors, we'll create a unique symbol.\n",
        "This results in a total of 16 symbols, representing all possible color-position combinations.\n",
        "\n",
        "Let's define these symbols:\n"
      ],
      "metadata": {
        "id": "XY_1ltdD2rJo"
      }
    },
    {
      "cell_type": "code",
      "source": [
        "colors = [\"red\", \"blue\", \"green\", \"yellow\"]\n",
        "symbols = []\n",
        "for i in range(4):\n",
        "    for color in colors:\n",
        "        symbols.append(Symbol(f\"{color}{i}\"))\n",
        "\n",
        "# Display the symbols\n",
        "symbols"
      ],
      "metadata": {
        "colab": {
          "base_uri": "https://localhost:8080/"
        },
        "id": "-cy2KqlY2ox4",
        "outputId": "55c67642-7924-46e2-f22b-2062b230ce8e"
      },
      "execution_count": 15,
      "outputs": [
        {
          "output_type": "execute_result",
          "data": {
            "text/plain": [
              "[red0,\n",
              " blue0,\n",
              " green0,\n",
              " yellow0,\n",
              " red1,\n",
              " blue1,\n",
              " green1,\n",
              " yellow1,\n",
              " red2,\n",
              " blue2,\n",
              " green2,\n",
              " yellow2,\n",
              " red3,\n",
              " blue3,\n",
              " green3,\n",
              " yellow3]"
            ]
          },
          "metadata": {},
          "execution_count": 15
        }
      ]
    },
    {
      "cell_type": "markdown",
      "source": [
        "## Constraint 1: Each Color Has a Position\n",
        "\n",
        "For each color, there should be a constraint ensuring that the color occupies one of the four positions.\n",
        "\n",
        "Fill in the code below to add this constraint to our knowledge base:\n"
      ],
      "metadata": {
        "id": "UOPZPC-C2znw"
      }
    },
    {
      "cell_type": "code",
      "source": [
        "knowledge = And()\n",
        "\n",
        "# Each color has a position.\n",
        "for color in colors:\n",
        "    knowledge.add(Or(\n",
        "        Symbol(f\"{color}0\"),\n",
        "        Symbol(f\"{color}1\"),\n",
        "        Symbol(f\"{color}2\"),\n",
        "        Symbol(f\"{color}3\")\n",
        "    ))\n"
      ],
      "metadata": {
        "id": "ERH6ZU5925wp"
      },
      "execution_count": 16,
      "outputs": []
    },
    {
      "cell_type": "markdown",
      "source": [
        "\n",
        "## Constraint 2: Only One Position Per Color\n",
        "\n",
        "A color cannot occupy more than one position at the same time.\n",
        "\n",
        "Fill in the code below to add this constraint to our knowledge base:"
      ],
      "metadata": {
        "id": "e7vVlAwh3r1I"
      }
    },
    {
      "cell_type": "code",
      "source": [
        "# Only one position per color.\n",
        "for color in colors:\n",
        "    for i in range(4):\n",
        "        for j in range(4):\n",
        "            if i != j:\n",
        "                knowledge.add(Implication(\n",
        "                    Symbol(f\"{color}{i}\"), Not(Symbol(f\"{color}{j}\"))\n",
        "                ))\n"
      ],
      "metadata": {
        "id": "coAmBKRx3s0P"
      },
      "execution_count": 17,
      "outputs": []
    },
    {
      "cell_type": "markdown",
      "source": [
        "\n",
        "## Constraint 3: Only One Color Per Position\n",
        "\n",
        "A position cannot be occupied by more than one color at the same time.\n",
        "\n",
        "Fill in the code below to add this constraint to our knowledge base:"
      ],
      "metadata": {
        "id": "dgOZGay74Z8p"
      }
    },
    {
      "cell_type": "code",
      "source": [
        "# Only one color per position.\n",
        "for i in range(4):\n",
        "    for c1 in colors:\n",
        "        for c2 in colors:\n",
        "            if c1 != c2:\n",
        "                knowledge.add(Implication(\n",
        "                    Symbol(f\"{c1}{i}\"), Not(Symbol(f\"{c2}{i}\"))\n",
        "                ))"
      ],
      "metadata": {
        "id": "2I9A-wbI4N35"
      },
      "execution_count": 18,
      "outputs": []
    },
    {
      "cell_type": "markdown",
      "source": [
        "\n",
        "## Adding Clues\n",
        "\n",
        "To determine the correct sequence of colors, we'll use clues. These clues help narrow down the possibilities.\n",
        "\n",
        "Based on the given clues, add the appropriate logical sentences to our knowledge base:\n"
      ],
      "metadata": {
        "id": "bJtPis5QCLMZ"
      }
    },
    {
      "cell_type": "code",
      "source": [
        "knowledge.add(Or(\n",
        "    And(Symbol(\"red0\"), Symbol(\"blue1\"), Not(Symbol(\"green2\")), Not(Symbol(\"yellow3\"))),\n",
        "    And(Symbol(\"red0\"), Symbol(\"green2\"), Not(Symbol(\"blue1\")), Not(Symbol(\"yellow3\"))),\n",
        "    And(Symbol(\"red0\"), Symbol(\"yellow3\"), Not(Symbol(\"blue1\")), Not(Symbol(\"green2\"))),\n",
        "    And(Symbol(\"blue1\"), Symbol(\"green2\"), Not(Symbol(\"red0\")), Not(Symbol(\"yellow3\"))),\n",
        "    And(Symbol(\"blue1\"), Symbol(\"yellow3\"), Not(Symbol(\"red0\")), Not(Symbol(\"green2\"))),\n",
        "    And(Symbol(\"green2\"), Symbol(\"yellow3\"), Not(Symbol(\"red0\")), Not(Symbol(\"blue1\")))\n",
        "))\n",
        "\n",
        "knowledge.add(And(\n",
        "    Not(Symbol(\"blue0\")),\n",
        "    Not(Symbol(\"red1\")),\n",
        "    Not(Symbol(\"green2\")),\n",
        "    Not(Symbol(\"yellow3\"))\n",
        "))"
      ],
      "metadata": {
        "id": "HwIjFWga5KwV"
      },
      "execution_count": 22,
      "outputs": []
    },
    {
      "cell_type": "markdown",
      "source": [
        "\n",
        "## Model Checking\n",
        "\n",
        "Now that we have our knowledge base set up with constraints and clues, it's time to use model checking to deduce the correct sequence of colors.\n",
        "\n",
        "Model checking involves testing each symbol against our knowledge base to determine if it's part of the correct sequence.\n",
        "\n",
        "Fill in the code below to implement the model checking process:"
      ],
      "metadata": {
        "id": "z-ClnVzNCTjR"
      }
    },
    {
      "cell_type": "code",
      "source": [
        "# Model check each symbol against the knowledge base"
      ],
      "metadata": {
        "id": "L8Fu6OO4CXfW"
      },
      "execution_count": null,
      "outputs": []
    },
    {
      "cell_type": "code",
      "source": [
        "for symbol in symbols:\n",
        "    if model_check(knowledge, symbol):\n",
        "        print(symbol)"
      ],
      "metadata": {
        "colab": {
          "base_uri": "https://localhost:8080/"
        },
        "id": "jw0Ble_DCi4T",
        "outputId": "2bccc20a-3ffc-477f-f17b-cfe75e8e80ea"
      },
      "execution_count": 23,
      "outputs": [
        {
          "output_type": "stream",
          "name": "stdout",
          "text": [
            "red0\n",
            "blue1\n",
            "yellow2\n",
            "green3\n"
          ]
        }
      ]
    }
  ]
}