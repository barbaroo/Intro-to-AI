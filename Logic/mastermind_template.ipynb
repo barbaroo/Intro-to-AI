{
  "cells": [
    {
      "cell_type": "markdown",
      "id": "faacdfac",
      "metadata": {
        "id": "faacdfac"
      },
      "source": [
        "\n",
        "# Mastermind Game: Logic Exercise\n",
        "\n",
        "In this exercise, you'll be working with the classic game of Mastermind using propositional logic.\n",
        "The goal of Mastermind is to guess the correct sequence of colors. For simplicity, we'll be using a version\n",
        "with 4 positions and 4 possible colors: red, blue, green, and yellow.\n",
        "\n",
        "We'll represent each color-position combination as a unique symbol. For example, the symbol \"red0\" represents\n",
        "the color red in the first position, \"blue1\" represents the color blue in the second position, and so on.\n",
        "\n",
        "Your task is to use logical reasoning to deduce the correct sequence of colors based on the given clues.\n",
        "\n",
        "Let's start by importing the necessary tools from `logic.py` and setting up our basic symbols.\n"
      ]
    },
    {
      "cell_type": "code",
      "source": [
        "from google.colab import drive\n",
        "drive.mount('/content/drive')"
      ],
      "metadata": {
        "colab": {
          "base_uri": "https://localhost:8080/"
        },
        "id": "3Z4ZOBPzxqxk",
        "outputId": "e6debae1-d108-42c3-fcad-59be38d1fcff"
      },
      "id": "3Z4ZOBPzxqxk",
      "execution_count": null,
      "outputs": [
        {
          "output_type": "stream",
          "name": "stdout",
          "text": [
            "Drive already mounted at /content/drive; to attempt to forcibly remount, call drive.mount(\"/content/drive\", force_remount=True).\n"
          ]
        }
      ]
    },
    {
      "cell_type": "code",
      "execution_count": 4,
      "id": "b01ece02",
      "metadata": {
        "id": "b01ece02"
      },
      "outputs": [],
      "source": [
        "\n",
        "from logic import *\n"
      ]
    },
    {
      "cell_type": "markdown",
      "id": "4f8c6d84",
      "metadata": {
        "id": "4f8c6d84"
      },
      "source": [
        "\n",
        "## Setting Up Symbols\n",
        "\n",
        "For each of the 4 positions and 4 colors, we'll create a unique symbol.\n",
        "This results in a total of 16 symbols, representing all possible color-position combinations.\n",
        "\n",
        "Let's define these symbols:\n"
      ]
    },
    {
      "cell_type": "code",
      "execution_count": 5,
      "id": "e1312a87",
      "metadata": {
        "id": "e1312a87",
        "colab": {
          "base_uri": "https://localhost:8080/"
        },
        "outputId": "66c7e2a6-1f16-4eca-d904-82794f123e76"
      },
      "outputs": [
        {
          "output_type": "execute_result",
          "data": {
            "text/plain": [
              "[red0,\n",
              " blue0,\n",
              " green0,\n",
              " yellow0,\n",
              " red1,\n",
              " blue1,\n",
              " green1,\n",
              " yellow1,\n",
              " red2,\n",
              " blue2,\n",
              " green2,\n",
              " yellow2,\n",
              " red3,\n",
              " blue3,\n",
              " green3,\n",
              " yellow3]"
            ]
          },
          "metadata": {},
          "execution_count": 5
        }
      ],
      "source": [
        "\n",
        "colors = [\"red\", \"blue\", \"green\", \"yellow\"]\n",
        "symbols = []\n",
        "for i in range(4):\n",
        "    for color in colors:\n",
        "        symbols.append(Symbol(f\"{color}{i}\"))\n",
        "\n",
        "# Display the symbols\n",
        "symbols\n"
      ]
    },
    {
      "cell_type": "markdown",
      "id": "baa0c988",
      "metadata": {
        "id": "baa0c988"
      },
      "source": [
        "\n",
        "## Constraint 1: Each Color Has a Position\n",
        "\n",
        "For each color, there should be a constraint ensuring that the color occupies one of the four positions.\n",
        "\n",
        "Fill in the code below to add this constraint to our knowledge base:\n"
      ]
    },
    {
      "cell_type": "code",
      "execution_count": null,
      "id": "03573f33",
      "metadata": {
        "id": "03573f33"
      },
      "outputs": [],
      "source": [
        "knowledge = And()\n",
        "\n",
        "# Each color has a position.\n",
        "for color in colors:\n",
        "    # TODO: Add a constraint to ensure each color occupies one of the positions\n",
        "    knowledge.add(___YOUR_CODE_HERE___)"
      ]
    },
    {
      "cell_type": "markdown",
      "id": "9f147a1d",
      "metadata": {
        "id": "9f147a1d"
      },
      "source": [
        "\n",
        "## Constraint 2: Only One Position Per Color\n",
        "\n",
        "A color cannot occupy more than one position at the same time.\n",
        "\n",
        "Fill in the code below to add this constraint to our knowledge base:\n"
      ]
    },
    {
      "cell_type": "code",
      "execution_count": null,
      "id": "dbbb0a01",
      "metadata": {
        "id": "dbbb0a01"
      },
      "outputs": [],
      "source": [
        "\n",
        "# Only one position per color.\n",
        "for color in colors:\n",
        "    for i in range(4):\n",
        "        for j in range(4):\n",
        "            if i != j:\n",
        "                # TODO: Add a constraint to ensure each color doesn't occupy more than one position\n",
        "                knowledge.add(___YOUR_CODE_HERE___)\n"
      ]
    },
    {
      "cell_type": "markdown",
      "id": "7efa6f41",
      "metadata": {
        "id": "7efa6f41"
      },
      "source": [
        "\n",
        "## Constraint 3: Only One Color Per Position\n",
        "\n",
        "A position cannot be occupied by more than one color at the same time.\n",
        "\n",
        "Fill in the code below to add this constraint to our knowledge base:\n"
      ]
    },
    {
      "cell_type": "code",
      "execution_count": null,
      "id": "1ee256e0",
      "metadata": {
        "id": "1ee256e0"
      },
      "outputs": [],
      "source": [
        "\n",
        "# Only one color per position.\n",
        "for i in range(4):\n",
        "    for c1 in colors:\n",
        "        for c2 in colors:\n",
        "            if c1 != c2:\n",
        "                # TODO: Add a constraint to ensure each position isn't occupied by more than one color\n",
        "                knowledge.add(___YOUR_CODE_HERE___)\n"
      ]
    },
    {
      "cell_type": "markdown",
      "id": "7bcc7e37",
      "metadata": {
        "id": "7bcc7e37"
      },
      "source": [
        "\n",
        "## Adding Clues\n",
        "\n",
        "To determine the correct sequence of colors, we'll use clues. These clues help narrow down the possibilities.\n",
        "\n",
        "Based on the given clues, add the appropriate logical sentences to our knowledge base:\n"
      ]
    },
    {
      "cell_type": "code",
      "execution_count": null,
      "id": "552cba1b",
      "metadata": {
        "id": "552cba1b"
      },
      "outputs": [],
      "source": [
        "\n",
        "# Add the clues to the knowledge base\n",
        "\n",
        "# TODO: Add the logical sentences corresponding to the clues\n",
        "knowledge.add(___YOUR_CODE_HERE___)\n",
        "\n",
        "\n",
        "# Display the knowledge base to verify\n",
        "knowledge\n"
      ]
    },
    {
      "cell_type": "markdown",
      "id": "9e104bf0",
      "metadata": {
        "id": "9e104bf0"
      },
      "source": [
        "\n",
        "## Model Checking\n",
        "\n",
        "Now that we have our knowledge base set up with constraints and clues, it's time to use model checking to deduce the correct sequence of colors.\n",
        "\n",
        "Model checking involves testing each symbol against our knowledge base to determine if it's part of the correct sequence.\n",
        "\n",
        "Fill in the code below to implement the model checking process:\n"
      ]
    },
    {
      "cell_type": "code",
      "execution_count": null,
      "id": "7dd7e022",
      "metadata": {
        "id": "7dd7e022"
      },
      "outputs": [],
      "source": [
        "\n",
        "# Model check each symbol against the knowledge base\n",
        "\n",
        "# TODO: Implement the model checking process\n",
        "for symbol in symbols:\n",
        "    if ___YOUR_CODE_HERE___:\n",
        "        print(symbol)\n"
      ]
    }
  ],
  "metadata": {
    "colab": {
      "provenance": []
    },
    "language_info": {
      "name": "python"
    },
    "kernelspec": {
      "name": "python3",
      "display_name": "Python 3"
    }
  },
  "nbformat": 4,
  "nbformat_minor": 5
}