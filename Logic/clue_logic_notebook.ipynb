{
 "cells": [
  {
   "cell_type": "markdown",
   "id": "eea0fc87",
   "metadata": {},
   "source": [
    "## Clue Game with Propositional Logic\n",
    "\n",
    "In this notebook, we will explore how to use propositional logic to deduce information in a game of Clue. The game of Clue involves players trying to determine which character committed a crime, in which room, and with which weapon. Players are given a set of cards that provide clues about which characters, rooms, and weapons are innocent. By process of elimination and deduction, they must then figure out the correct answer.\n",
    "\n",
    "We will use the `logic.py` module to represent logical sentences and perform model checking to evaluate these sentences."
   ]
  },
  {
   "cell_type": "markdown",
   "id": "0c04e39b",
   "metadata": {},
   "source": [
    "### Setting Up the Game\n",
    "\n",
    "Let's define our characters, rooms, and weapons as symbols. \n",
    "\n",
    "- Characters: Col Mustard, Prof Plum, Ms Scarlet\n",
    "- Rooms: Ballroom, Kitchen, Library\n",
    "- Weapons: Knife, Revolver, Wrench"
   ]
  },
  {
   "cell_type": "code",
   "execution_count": null,
   "id": "709d0dc5",
   "metadata": {},
   "outputs": [],
   "source": [
    "from logic import *\n",
    "\n",
    "mustard = Symbol(\"ColMustard\")\n",
    "plum = Symbol(\"ProfPlum\")\n",
    "scarlet = Symbol(\"MsScarlet\")\n",
    "characters = [mustard, plum, scarlet]\n",
    "\n",
    "ballroom = Symbol(\"ballroom\")\n",
    "kitchen = Symbol(\"kitchen\")\n",
    "library = Symbol(\"library\")\n",
    "rooms = [ballroom, kitchen, library]\n",
    "\n",
    "knife = Symbol(\"knife\")\n",
    "revolver = Symbol(\"revolver\")\n",
    "wrench = Symbol(\"wrench\")\n",
    "weapons = [knife, revolver, wrench]\n",
    "\n",
    "symbols = characters + rooms + weapons"
   ]
  },
  {
   "cell_type": "markdown",
   "id": "e9b4d02b",
   "metadata": {},
   "source": [
    "### Checking Our Knowledge\n",
    "\n",
    "To deduce the solution, we'll build a knowledge base and continually update it as we gather more information. We'll also have a function to check our current knowledge against this knowledge base."
   ]
  },
  {
   "cell_type": "code",
   "execution_count": null,
   "id": "2e06cace",
   "metadata": {},
   "outputs": [],
   "source": [
    "import termcolor\n",
    "\n",
    "def check_knowledge(knowledge):\n",
    "    for symbol in symbols:\n",
    "        if model_check(knowledge, symbol):\n",
    "            termcolor.cprint(f\"{symbol}: YES\", \"green\")\n",
    "        elif not model_check(knowledge, Not(symbol)):\n",
    "            print(f\"{symbol}: MAYBE\"}"
   ]
  },
  {
   "cell_type": "markdown",
   "id": "32fdde19",
   "metadata": {},
   "source": [
    "### Initial Constraints\n",
    "\n",
    "There are some constraints we can add immediately:\n",
    "1. There must be one person, one room, and one weapon in the solution.\n",
    "2. We have initial cards that tell us some items that are NOT part of the solution.\n",
    "\n",
    "Let's add these constraints to our knowledge base:"
   ]
  },
  {
   "cell_type": "code",
   "execution_count": null,
   "id": "6facabb8",
   "metadata": {},
   "outputs": [],
   "source": [
    "# There must be a person, room, and weapon.\n",
    "knowledge = And(\n",
    "    Or(mustard, plum, scarlet),\n",
    "    Or(ballroom, kitchen, library),\n",
    "    Or(knife, revolver, wrench)\n",
    ")\n",
    "\n",
    "# Initial cards\n",
    "knowledge.add(And(\n",
    "    Not(mustard), Not(kitchen), Not(revolver)\n",
    "))\n",
    "\n",
    "# Unknown card\n",
    "knowledge.add(Or(\n",
    "    Not(scarlet), Not(library), Not(wrench)\n",
    "))\n",
    "\n",
    "# Known cards\n",
    "knowledge.add(Not(plum))\n",
    "knowledge.add(Not(ballroom))"
   ]
  },
  {
   "cell_type": "markdown",
   "id": "533aac0a",
   "metadata": {},
   "source": [
    "### Checking Our Deductions\n",
    "\n",
    "With the information we've added, let's see what we can deduce so far:"
   ]
  },
  {
   "cell_type": "code",
   "execution_count": null,
   "id": "e7f44fb5",
   "metadata": {},
   "outputs": [],
   "source": [
    "check_knowledge(knowledge)"
   ]
  }
 ],
 "metadata": {},
 "nbformat": 4,
 "nbformat_minor": 5
}
