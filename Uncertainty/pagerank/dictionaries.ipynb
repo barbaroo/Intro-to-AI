{
  "nbformat": 4,
  "nbformat_minor": 0,
  "metadata": {
    "colab": {
      "provenance": []
    },
    "kernelspec": {
      "name": "python3",
      "display_name": "Python 3"
    },
    "language_info": {
      "name": "python"
    }
  },
  "cells": [
    {
      "cell_type": "markdown",
      "source": [
        "## Dictionaries in Python"
      ],
      "metadata": {
        "id": "bD2vPTrp7bLe"
      }
    },
    {
      "cell_type": "markdown",
      "source": [
        "Define a dictionary"
      ],
      "metadata": {
        "id": "yiHayL9g4bTk"
      }
    },
    {
      "cell_type": "code",
      "source": [
        "person = {\n",
        "    \"name\": \"John\",\n",
        "    \"age\": 30,\n",
        "    \"city\": \"New York\"\n",
        "}"
      ],
      "metadata": {
        "id": "UO0RXgO44hrz"
      },
      "execution_count": 1,
      "outputs": []
    },
    {
      "cell_type": "code",
      "source": [
        "person"
      ],
      "metadata": {
        "colab": {
          "base_uri": "https://localhost:8080/"
        },
        "id": "lTTLGsIQ4ozD",
        "outputId": "df61ab7a-9972-4e05-cda5-060c79dd562d"
      },
      "execution_count": 2,
      "outputs": [
        {
          "output_type": "execute_result",
          "data": {
            "text/plain": [
              "{'name': 'John', 'age': 30, 'city': 'New York'}"
            ]
          },
          "metadata": {},
          "execution_count": 2
        }
      ]
    },
    {
      "cell_type": "code",
      "source": [
        "person.keys()"
      ],
      "metadata": {
        "colab": {
          "base_uri": "https://localhost:8080/"
        },
        "id": "H8oTQz704riV",
        "outputId": "4c59cde3-f888-4463-d9c4-1bed1ca5bc39"
      },
      "execution_count": 3,
      "outputs": [
        {
          "output_type": "execute_result",
          "data": {
            "text/plain": [
              "dict_keys(['name', 'age', 'city'])"
            ]
          },
          "metadata": {},
          "execution_count": 3
        }
      ]
    },
    {
      "cell_type": "code",
      "source": [
        "person.values()"
      ],
      "metadata": {
        "colab": {
          "base_uri": "https://localhost:8080/"
        },
        "id": "1E3MJ8eS4uVw",
        "outputId": "39e3ef6a-77b7-41b7-d8b3-a5a01c535e4d"
      },
      "execution_count": 4,
      "outputs": [
        {
          "output_type": "execute_result",
          "data": {
            "text/plain": [
              "dict_values(['John', 30, 'New York'])"
            ]
          },
          "metadata": {},
          "execution_count": 4
        }
      ]
    },
    {
      "cell_type": "markdown",
      "source": [
        "You can access the value with the respective key"
      ],
      "metadata": {
        "id": "vTMuMbo94y9H"
      }
    },
    {
      "cell_type": "code",
      "source": [
        "person['name']"
      ],
      "metadata": {
        "colab": {
          "base_uri": "https://localhost:8080/",
          "height": 35
        },
        "id": "s0TpwKbV4wxT",
        "outputId": "621e68b0-bf9e-4cc0-dc43-1e38cc15c436"
      },
      "execution_count": 5,
      "outputs": [
        {
          "output_type": "execute_result",
          "data": {
            "text/plain": [
              "'John'"
            ],
            "application/vnd.google.colaboratory.intrinsic+json": {
              "type": "string"
            }
          },
          "metadata": {},
          "execution_count": 5
        }
      ]
    },
    {
      "cell_type": "code",
      "source": [
        "age = person['age']"
      ],
      "metadata": {
        "id": "eVt7l2Fm44v7"
      },
      "execution_count": null,
      "outputs": []
    },
    {
      "cell_type": "code",
      "source": [
        "for key, value in person.items():\n",
        "    print(f\"{key}: {value}\")\n"
      ],
      "metadata": {
        "colab": {
          "base_uri": "https://localhost:8080/"
        },
        "id": "a7RluxLb6JTm",
        "outputId": "09e8cee0-a833-4ac8-e6dd-1445eb2a4c70"
      },
      "execution_count": 9,
      "outputs": [
        {
          "output_type": "stream",
          "name": "stdout",
          "text": [
            "name: John\n",
            "age: 30\n",
            "city: New York\n"
          ]
        }
      ]
    },
    {
      "cell_type": "markdown",
      "source": [
        "define an empty dictionary and fill it"
      ],
      "metadata": {
        "id": "jCFkXOq_5nTG"
      }
    },
    {
      "cell_type": "code",
      "source": [
        "new_dictionary = {}"
      ],
      "metadata": {
        "id": "znlxo91J5p5r"
      },
      "execution_count": 6,
      "outputs": []
    },
    {
      "cell_type": "code",
      "source": [
        "age = 'age'\n",
        "new_dictionary[age] = 30"
      ],
      "metadata": {
        "id": "4qspSmtx5s76"
      },
      "execution_count": 15,
      "outputs": []
    },
    {
      "cell_type": "code",
      "source": [
        "new_dictionary"
      ],
      "metadata": {
        "colab": {
          "base_uri": "https://localhost:8080/"
        },
        "id": "RjB1JrS15210",
        "outputId": "9eb968b6-fe1b-475b-fe3d-81f199a8cb49"
      },
      "execution_count": 8,
      "outputs": [
        {
          "output_type": "execute_result",
          "data": {
            "text/plain": [
              "{'age': 30}"
            ]
          },
          "metadata": {},
          "execution_count": 8
        }
      ]
    },
    {
      "cell_type": "code",
      "source": [
        "new_dictionary[age] += 1\n",
        "\n",
        "new_dictionary"
      ],
      "metadata": {
        "colab": {
          "base_uri": "https://localhost:8080/"
        },
        "id": "wr_zCzkB7JyA",
        "outputId": "d62ac3b9-a5aa-42fc-9ace-61642ca85da8"
      },
      "execution_count": 16,
      "outputs": [
        {
          "output_type": "execute_result",
          "data": {
            "text/plain": [
              "{'age': 31}"
            ]
          },
          "metadata": {},
          "execution_count": 16
        }
      ]
    },
    {
      "cell_type": "markdown",
      "source": [
        "fill in dictionary iteratively"
      ],
      "metadata": {
        "id": "BRbXS7sh614f"
      }
    },
    {
      "cell_type": "code",
      "source": [
        "words = [\"apple\", \"banana\", \"apple\", \"orange\", \"banana\", \"apple\"]\n",
        "word_count = {}\n",
        "for word in words:\n",
        "    word_count[word] = word_count.get(word, 0) + 1\n",
        "print(word_count)  # Outputs: {'apple': 3, 'banana': 2, 'orange': 1}\n"
      ],
      "metadata": {
        "colab": {
          "base_uri": "https://localhost:8080/"
        },
        "id": "mQWrt7hd6RUY",
        "outputId": "7d205cd2-be0b-4a64-92b9-b606f9726753"
      },
      "execution_count": 10,
      "outputs": [
        {
          "output_type": "stream",
          "name": "stdout",
          "text": [
            "{'apple': 3, 'banana': 2, 'orange': 1}\n"
          ]
        }
      ]
    },
    {
      "cell_type": "code",
      "source": [],
      "metadata": {
        "id": "H7fHTnqb7It2"
      },
      "execution_count": null,
      "outputs": []
    }
  ]
}